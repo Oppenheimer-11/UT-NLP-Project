{
 "cells": [
  {
   "cell_type": "code",
   "execution_count": 35,
   "metadata": {},
   "outputs": [],
   "source": [
    "import pandas as pd\n",
    "from sklearn.model_selection import train_test_split\n",
    "import pandas as pd\n",
    "import torch\n",
    "from transformers import BertTokenizer, BertModel\n",
    "from torch.utils.data import Dataset, DataLoader\n",
    "import torch.nn as nn\n",
    "import torch.optim as optim\n",
    "from torch.utils.data import DataLoader, TensorDataset"
   ]
  },
  {
   "cell_type": "code",
   "execution_count": 24,
   "metadata": {},
   "outputs": [
    {
     "data": {
      "text/plain": [
       "(7613, 5)"
      ]
     },
     "execution_count": 24,
     "metadata": {},
     "output_type": "execute_result"
    }
   ],
   "source": [
    "# load data\n",
    "file_path = r\"../datasets/\"\n",
    "train_file = r\"train.csv\"\n",
    "test_file = r\"test.csv\"\n",
    "subm_file = r\"sample_submission.csv\"\n",
    "\n",
    "raw_train_data = pd.read_csv(file_path+train_file)\n",
    "raw_test_data = pd.read_csv(file_path+test_file)\n",
    "\n",
    "raw_train_data.shape"
   ]
  },
  {
   "cell_type": "code",
   "execution_count": 43,
   "metadata": {},
   "outputs": [
    {
     "data": {
      "text/plain": [
       "<Axes: >"
      ]
     },
     "execution_count": 43,
     "metadata": {},
     "output_type": "execute_result"
    },
    {
     "data": {
      "image/png": "[encoded data removed]",
      "text/plain": [
       "<Figure size 640x480 with 1 Axes>"
      ]
     },
     "metadata": {},
     "output_type": "display_data"
    }
   ],
   "source": [
    "# check the distribution of the sequence length\n",
    "raw_train_data['text'].apply(lambda x: len(x)).hist()\n",
    "# let the max_length be 64"
   ]
  },
  {
   "cell_type": "code",
   "execution_count": 46,
   "metadata": {},
   "outputs": [
    {
     "data": {
      "text/plain": [
       "0    [101, 101, 101, 2256, 15616, 2024, 1996, 3114,...\n",
       "1    [101, 101, 101, 3224, 2543, 2379, 2474, 6902, ...\n",
       "2    [101, 101, 101, 2035, 3901, 2356, 2000, 1005, ...\n",
       "3    [101, 101, 101, 2410, 1010, 2199, 2111, 4374, ...\n",
       "4    [101, 101, 101, 2074, 2288, 2741, 2023, 6302, ...\n",
       "Name: text, dtype: object"
      ]
     },
     "execution_count": 46,
     "metadata": {},
     "output_type": "execute_result"
    }
   ],
   "source": [
    "# Tokenize the text using BERT's tokenizer\n",
    "tokenizer = BertTokenizer.from_pretrained('bert-base-uncased')\n",
    "# Tokenize the text using BERT's tokenizer and ensure uniform sequence length\n",
    "max_sequence_length = 64  # Adjust to an appropriate sequence length\n",
    "\n",
    "raw_train_data['text'] = raw_train_data['text'].apply(lambda x: tokenizer.encode(x, add_special_tokens=True, max_length=max_sequence_length, truncation=True, padding='max_length'))\n",
    "raw_test_data['text'] = raw_test_data['text'].apply(lambda x: tokenizer.encode(x, add_special_tokens=True, max_length=max_sequence_length, truncation=True, padding='max_length'))\n",
    "raw_train_data['text'].head()"
   ]
  },
  {
   "cell_type": "code",
   "execution_count": 51,
   "metadata": {},
   "outputs": [
    {
     "data": {
      "text/plain": [
       "20"
      ]
     },
     "execution_count": 51,
     "metadata": {},
     "output_type": "execute_result"
    }
   ],
   "source": [
    "len(raw_train_data['text'].iloc[0])"
   ]
  },
  {
   "cell_type": "code",
   "execution_count": 48,
   "metadata": {},
   "outputs": [
    {
     "ename": "ValueError",
     "evalue": "expected sequence of length 41 at dim 1 (got 32)",
     "output_type": "error",
     "traceback": [
      "\u001b[1;31m---------------------------------------------------------------------------\u001b[0m",
      "\u001b[1;31mValueError\u001b[0m                                Traceback (most recent call last)",
      "\u001b[1;32md:\\Python Workspace\\src\\UTCourse\\NLP\\UT-NLP-Project\\src\\data exploration.ipynb Cell 5\u001b[0m line \u001b[0;36m1\n\u001b[0;32m      <a href='vscode-notebook-cell:/d%3A/Python%20Workspace/src/UTCourse/NLP/UT-NLP-Project/src/data%20exploration.ipynb#X16sZmlsZQ%3D%3D?line=2'>3</a>\u001b[0m test_data \u001b[39m=\u001b[39m raw_test_data[\u001b[39m'\u001b[39m\u001b[39mtext\u001b[39m\u001b[39m'\u001b[39m]\n\u001b[0;32m      <a href='vscode-notebook-cell:/d%3A/Python%20Workspace/src/UTCourse/NLP/UT-NLP-Project/src/data%20exploration.ipynb#X16sZmlsZQ%3D%3D?line=4'>5</a>\u001b[0m \u001b[39m# train_data = train_data.tolist()\u001b[39;00m\n\u001b[0;32m      <a href='vscode-notebook-cell:/d%3A/Python%20Workspace/src/UTCourse/NLP/UT-NLP-Project/src/data%20exploration.ipynb#X16sZmlsZQ%3D%3D?line=5'>6</a>\u001b[0m \u001b[39m# train_labels = train_labels.tolist()\u001b[39;00m\n\u001b[0;32m      <a href='vscode-notebook-cell:/d%3A/Python%20Workspace/src/UTCourse/NLP/UT-NLP-Project/src/data%20exploration.ipynb#X16sZmlsZQ%3D%3D?line=6'>7</a>\u001b[0m \u001b[39m# val_data = val_data.tolist()\u001b[39;00m\n\u001b[0;32m      <a href='vscode-notebook-cell:/d%3A/Python%20Workspace/src/UTCourse/NLP/UT-NLP-Project/src/data%20exploration.ipynb#X16sZmlsZQ%3D%3D?line=7'>8</a>\u001b[0m \u001b[39m# val_labels = val_labels.tolist()\u001b[39;00m\n\u001b[1;32m---> <a href='vscode-notebook-cell:/d%3A/Python%20Workspace/src/UTCourse/NLP/UT-NLP-Project/src/data%20exploration.ipynb#X16sZmlsZQ%3D%3D?line=9'>10</a>\u001b[0m train_data \u001b[39m=\u001b[39m torch\u001b[39m.\u001b[39mLongTensor(train_data\u001b[39m.\u001b[39mtolist())\n\u001b[0;32m     <a href='vscode-notebook-cell:/d%3A/Python%20Workspace/src/UTCourse/NLP/UT-NLP-Project/src/data%20exploration.ipynb#X16sZmlsZQ%3D%3D?line=10'>11</a>\u001b[0m train_labels \u001b[39m=\u001b[39m torch\u001b[39m.\u001b[39mLongTensor(train_labels\u001b[39m.\u001b[39mtolist())\n\u001b[0;32m     <a href='vscode-notebook-cell:/d%3A/Python%20Workspace/src/UTCourse/NLP/UT-NLP-Project/src/data%20exploration.ipynb#X16sZmlsZQ%3D%3D?line=11'>12</a>\u001b[0m val_data \u001b[39m=\u001b[39m torch\u001b[39m.\u001b[39mLongTensor(val_data\u001b[39m.\u001b[39mtolist())\n",
      "\u001b[1;31mValueError\u001b[0m: expected sequence of length 41 at dim 1 (got 32)"
     ]
    }
   ],
   "source": [
    "# Split the data into train and train sets\n",
    "train_data, val_data, train_labels, val_labels = train_test_split(raw_train_data['text'], raw_train_data['target'], test_size=0.2, random_state=42)\n",
    "test_data = raw_test_data['text']\n",
    "\n",
    "# train_data = train_data.tolist()\n",
    "# train_labels = train_labels.tolist()\n",
    "# val_data = val_data.tolist()\n",
    "# val_labels = val_labels.tolist()\n",
    "\n",
    "train_data = torch.LongTensor(train_data.tolist())\n",
    "train_labels = torch.LongTensor(train_labels.tolist())\n",
    "val_data = torch.LongTensor(val_data.tolist())\n",
    "val_labels = torch.LongTensor(val_labels.tolist())"
   ]
  },
  {
   "cell_type": "markdown",
   "metadata": {},
   "source": [
    "# Analyze"
   ]
  },
  {
   "cell_type": "code",
   "execution_count": 6,
   "metadata": {},
   "outputs": [
    {
     "data": {
      "text/plain": [
       "\"All residents asked to 'shelter in place' are being notified by officers. No other evacuation or shelter in place orders are expected\""
      ]
     },
     "execution_count": 6,
     "metadata": {},
     "output_type": "execute_result"
    }
   ],
   "source": [
    "raw_train_data['text'].iloc[2]"
   ]
  },
  {
   "cell_type": "code",
   "execution_count": 23,
   "metadata": {},
   "outputs": [
    {
     "data": {
      "text/plain": [
       "0.4296597924602653"
      ]
     },
     "execution_count": 23,
     "metadata": {},
     "output_type": "execute_result"
    }
   ],
   "source": [
    "# check if the sample is balanced\n",
    "n_p_sample = raw_train_data[raw_train_data['target'] == 1].shape[0]\n",
    "n_sample = raw_train_data.shape[0]\n",
    "perc_p_sample = n_p_sample/n_sample\n",
    "perc_p_sample"
   ]
  },
  {
   "cell_type": "markdown",
   "metadata": {},
   "source": [
    "The training sample is kind of balanced"
   ]
  },
  {
   "cell_type": "code",
   "execution_count": 29,
   "metadata": {},
   "outputs": [
    {
     "data": {
      "text/plain": [
       "3342"
      ]
     },
     "execution_count": 29,
     "metadata": {},
     "output_type": "execute_result"
    }
   ],
   "source": [
    "# number of different location\n",
    "raw_train_data['location'].unique()"
   ]
  },
  {
   "cell_type": "code",
   "execution_count": 35,
   "metadata": {},
   "outputs": [
    {
     "data": {
      "text/plain": [
       "array([[<Axes: title={'center': 'id'}>]], dtype=object)"
      ]
     },
     "execution_count": 35,
     "metadata": {},
     "output_type": "execute_result"
    },
    {
     "data": {
      "image/png": "[encoded data removed]",
      "text/plain": [
       "<Figure size 640x480 with 1 Axes>"
      ]
     },
     "metadata": {},
     "output_type": "display_data"
    }
   ],
   "source": [
    "# number of disaster tweets in each location\n",
    "raw_train_data[['location', 'id']].groupby('location').count().hist(bins=100)"
   ]
  },
  {
   "cell_type": "code",
   "execution_count": 36,
   "metadata": {},
   "outputs": [
    {
     "data": {
      "text/plain": [
       "0       Our Deeds are the Reason of this #earthquake M...\n",
       "1                  Forest fire near La Ronge Sask. Canada\n",
       "2       All residents asked to 'shelter in place' are ...\n",
       "3       13,000 people receive #wildfires evacuation or...\n",
       "4       Just got sent this photo from Ruby #Alaska as ...\n",
       "                              ...                        \n",
       "7608    Two giant cranes holding a bridge collapse int...\n",
       "7609    @aria_ahrary @TheTawniest The out of control w...\n",
       "7610    M1.94 [01:04 UTC]?5km S of Volcano Hawaii. htt...\n",
       "7611    Police investigating after an e-bike collided ...\n",
       "7612    The Latest: More Homes Razed by Northern Calif...\n",
       "Name: text, Length: 7613, dtype: object"
      ]
     },
     "execution_count": 36,
     "metadata": {},
     "output_type": "execute_result"
    }
   ],
   "source": [
    "# data cleaning \n",
    "raw_train_data[\"text\"]"
   ]
  },
  {
   "cell_type": "code",
   "execution_count": null,
   "metadata": {},
   "outputs": [],
   "source": [
    "X = raw_train_data[\"text\"]\n",
    "y = raw_train_data[\"target\"]\n",
    "# X represents your features, and y represents your labels\n",
    "X_train, X_test, y_train, y_test = train_test_split(X, y, test_size=0.3, random_state=42)"
   ]
  }
 ],
 "metadata": {
  "kernelspec": {
   "display_name": "base",
   "language": "python",
   "name": "python3"
  },
  "language_info": {
   "codemirror_mode": {
    "name": "ipython",
    "version": 3
   },
   "file_extension": ".py",
   "mimetype": "text/x-python",
   "name": "python",
   "nbconvert_exporter": "python",
   "pygments_lexer": "ipython3",
   "version": "3.11.4"
  },
  "orig_nbformat": 4
 },
 "nbformat": 4,
 "nbformat_minor": 2
}
