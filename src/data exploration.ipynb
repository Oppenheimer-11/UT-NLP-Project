{
 "cells": [
  {
   "cell_type": "code",
   "execution_count": 29,
   "metadata": {},
   "outputs": [],
   "source": [
    "import pandas as pd\n",
    "from sklearn.model_selection import train_test_split\n",
    "import pandas as pd\n",
    "import torch\n",
    "from transformers import BertTokenizer, BertModel\n",
    "from torch.utils.data import Dataset, DataLoader\n",
    "import torch.nn as nn\n",
    "import torch.optim as optim\n",
    "from torch.utils.data import DataLoader, TensorDataset"
   ]
  },
  {
   "cell_type": "code",
   "execution_count": 30,
   "metadata": {},
   "outputs": [
    {
     "data": {
      "text/plain": [
       "(7613, 5)"
      ]
     },
     "execution_count": 30,
     "metadata": {},
     "output_type": "execute_result"
    }
   ],
   "source": [
    "# load data\n",
    "file_path = r\"../datasets/\"\n",
    "train_file = r\"train.csv\"\n",
    "test_file = r\"test.csv\"\n",
    "subm_file = r\"sample_submission.csv\"\n",
    "\n",
    "raw_train_data = pd.read_csv(file_path+train_file)\n",
    "raw_test_data = pd.read_csv(file_path+test_file)\n",
    "\n",
    "raw_train_data.shape"
   ]
  },
  {
   "cell_type": "code",
   "execution_count": 24,
   "metadata": {},
   "outputs": [
    {
     "data": {
      "text/plain": [
       "2356"
      ]
     },
     "execution_count": 24,
     "metadata": {},
     "output_type": "execute_result"
    }
   ],
   "source": [
    "max_length = 0\n",
    "count = 0\n",
    "for i in range(0, raw_train_data.shape[0]):\n",
    "    length = len(raw_train_data['text'].iloc[i])\n",
    "    if length > max_length:\n",
    "        max_length = length\n",
    "    if length > 128:\n",
    "        count += 1\n",
    "count"
   ]
  },
  {
   "cell_type": "code",
   "execution_count": 16,
   "metadata": {},
   "outputs": [
    {
     "data": {
      "text/plain": [
       "<Axes: >"
      ]
     },
     "execution_count": 16,
     "metadata": {},
     "output_type": "execute_result"
    },
    {
     "data": {
      "image/png": "[encoded data removed]",
      "text/plain": [
       "<Figure size 640x480 with 1 Axes>"
      ]
     },
     "metadata": {},
     "output_type": "display_data"
    }
   ],
   "source": [
    "raw_train_data['text'].apply(lambda x: len(x)).hist()"
   ]
  },
  {
   "cell_type": "code",
   "execution_count": 4,
   "metadata": {},
   "outputs": [],
   "source": [
    "# max_sequence_length = 64  # 设置你的最大序列长度\n",
    "\n",
    "# tokenizer = BertTokenizer.from_pretrained('bert-base-uncased')\n",
    "\n",
    "# # 对训练数据进行处理\n",
    "# raw_train_data['text'] = raw_train_data['text'].apply(lambda x: x[:max_sequence_length])  # 截断文本\n",
    "# raw_train_data['text'] = raw_train_data['text'].apply(lambda x: x.ljust(max_sequence_length))  # 填充文本\n",
    "\n",
    "# # 对测试数据进行处理\n",
    "# raw_test_data['text'] = raw_test_data['text'].apply(lambda x: x[:max_sequence_length])  # 截断文本\n",
    "# raw_test_data['text'] = raw_test_data['text'].apply(lambda x: x.ljust(max_sequence_length))  # 填充文本\n",
    "\n",
    "# # 对文本进行令牌化\n",
    "# train_data = raw_train_data['text'].apply(lambda x: tokenizer.encode(x, add_special_tokens=True))\n",
    "# test_data = raw_test_data['text'].apply(lambda x: tokenizer.encode(x, add_special_tokens=True))\n"
   ]
  },
  {
   "cell_type": "code",
   "execution_count": 31,
   "metadata": {},
   "outputs": [
    {
     "ename": "TypeError",
     "evalue": "BertTokenizer._tokenize() got an unexpected keyword argument 'truncation'",
     "output_type": "error",
     "traceback": [
      "\u001b[1;31m---------------------------------------------------------------------------\u001b[0m",
      "\u001b[1;31mTypeError\u001b[0m                                 Traceback (most recent call last)",
      "\u001b[1;32md:\\Python Workspace\\src\\UTCourse\\NLP\\UT-NLP-Project\\src\\data exploration.ipynb Cell 6\u001b[0m line \u001b[0;36m6\n\u001b[0;32m      <a href='vscode-notebook-cell:/d%3A/Python%20Workspace/src/UTCourse/NLP/UT-NLP-Project/src/data%20exploration.ipynb#X25sZmlsZQ%3D%3D?line=2'>3</a>\u001b[0m \u001b[39m# Tokenize the text using BERT's tokenizer and ensure uniform sequence length\u001b[39;00m\n\u001b[0;32m      <a href='vscode-notebook-cell:/d%3A/Python%20Workspace/src/UTCourse/NLP/UT-NLP-Project/src/data%20exploration.ipynb#X25sZmlsZQ%3D%3D?line=3'>4</a>\u001b[0m max_sequence_length \u001b[39m=\u001b[39m \u001b[39m128\u001b[39m  \u001b[39m# Adjust to an appropriate sequence length\u001b[39;00m\n\u001b[1;32m----> <a href='vscode-notebook-cell:/d%3A/Python%20Workspace/src/UTCourse/NLP/UT-NLP-Project/src/data%20exploration.ipynb#X25sZmlsZQ%3D%3D?line=5'>6</a>\u001b[0m raw_train_data[\u001b[39m'\u001b[39m\u001b[39mtext\u001b[39m\u001b[39m'\u001b[39m] \u001b[39m=\u001b[39m raw_train_data[\u001b[39m'\u001b[39m\u001b[39mtext\u001b[39m\u001b[39m'\u001b[39m]\u001b[39m.\u001b[39mapply(\u001b[39mlambda\u001b[39;00m x: tokenizer\u001b[39m.\u001b[39mencode(x, add_special_tokens\u001b[39m=\u001b[39m\u001b[39mTrue\u001b[39;00m, max_length\u001b[39m=\u001b[39mmax_sequence_length, truncation\u001b[39m=\u001b[39m\u001b[39mTrue\u001b[39;00m, padding\u001b[39m=\u001b[39m\u001b[39m'\u001b[39m\u001b[39mmax_length\u001b[39m\u001b[39m'\u001b[39m))\n\u001b[0;32m      <a href='vscode-notebook-cell:/d%3A/Python%20Workspace/src/UTCourse/NLP/UT-NLP-Project/src/data%20exploration.ipynb#X25sZmlsZQ%3D%3D?line=6'>7</a>\u001b[0m raw_test_data[\u001b[39m'\u001b[39m\u001b[39mtext\u001b[39m\u001b[39m'\u001b[39m] \u001b[39m=\u001b[39m raw_test_data[\u001b[39m'\u001b[39m\u001b[39mtext\u001b[39m\u001b[39m'\u001b[39m]\u001b[39m.\u001b[39mapply(\u001b[39mlambda\u001b[39;00m x: tokenizer\u001b[39m.\u001b[39mencode(x, add_special_tokens\u001b[39m=\u001b[39m\u001b[39mTrue\u001b[39;00m, max_length\u001b[39m=\u001b[39mmax_sequence_length, truncation\u001b[39m=\u001b[39m\u001b[39mTrue\u001b[39;00m, padding\u001b[39m=\u001b[39m\u001b[39m'\u001b[39m\u001b[39mmax_length\u001b[39m\u001b[39m'\u001b[39m))\n\u001b[0;32m      <a href='vscode-notebook-cell:/d%3A/Python%20Workspace/src/UTCourse/NLP/UT-NLP-Project/src/data%20exploration.ipynb#X25sZmlsZQ%3D%3D?line=7'>8</a>\u001b[0m raw_train_data[\u001b[39m'\u001b[39m\u001b[39mtext\u001b[39m\u001b[39m'\u001b[39m]\u001b[39m.\u001b[39mhead()\n",
      "File \u001b[1;32md:\\ProgramFiles\\anaconda\\Lib\\site-packages\\pandas\\core\\series.py:4771\u001b[0m, in \u001b[0;36mSeries.apply\u001b[1;34m(self, func, convert_dtype, args, **kwargs)\u001b[0m\n\u001b[0;32m   4661\u001b[0m \u001b[39mdef\u001b[39;00m \u001b[39mapply\u001b[39m(\n\u001b[0;32m   4662\u001b[0m     \u001b[39mself\u001b[39m,\n\u001b[0;32m   4663\u001b[0m     func: AggFuncType,\n\u001b[1;32m   (...)\u001b[0m\n\u001b[0;32m   4666\u001b[0m     \u001b[39m*\u001b[39m\u001b[39m*\u001b[39mkwargs,\n\u001b[0;32m   4667\u001b[0m ) \u001b[39m-\u001b[39m\u001b[39m>\u001b[39m DataFrame \u001b[39m|\u001b[39m Series:\n\u001b[0;32m   4668\u001b[0m \u001b[39m    \u001b[39m\u001b[39m\"\"\"\u001b[39;00m\n\u001b[0;32m   4669\u001b[0m \u001b[39m    Invoke function on values of Series.\u001b[39;00m\n\u001b[0;32m   4670\u001b[0m \n\u001b[1;32m   (...)\u001b[0m\n\u001b[0;32m   4769\u001b[0m \u001b[39m    dtype: float64\u001b[39;00m\n\u001b[0;32m   4770\u001b[0m \u001b[39m    \"\"\"\u001b[39;00m\n\u001b[1;32m-> 4771\u001b[0m     \u001b[39mreturn\u001b[39;00m SeriesApply(\u001b[39mself\u001b[39m, func, convert_dtype, args, kwargs)\u001b[39m.\u001b[39mapply()\n",
      "File \u001b[1;32md:\\ProgramFiles\\anaconda\\Lib\\site-packages\\pandas\\core\\apply.py:1123\u001b[0m, in \u001b[0;36mSeriesApply.apply\u001b[1;34m(self)\u001b[0m\n\u001b[0;32m   1120\u001b[0m     \u001b[39mreturn\u001b[39;00m \u001b[39mself\u001b[39m\u001b[39m.\u001b[39mapply_str()\n\u001b[0;32m   1122\u001b[0m \u001b[39m# self.f is Callable\u001b[39;00m\n\u001b[1;32m-> 1123\u001b[0m \u001b[39mreturn\u001b[39;00m \u001b[39mself\u001b[39m\u001b[39m.\u001b[39mapply_standard()\n",
      "File \u001b[1;32md:\\ProgramFiles\\anaconda\\Lib\\site-packages\\pandas\\core\\apply.py:1174\u001b[0m, in \u001b[0;36mSeriesApply.apply_standard\u001b[1;34m(self)\u001b[0m\n\u001b[0;32m   1172\u001b[0m     \u001b[39melse\u001b[39;00m:\n\u001b[0;32m   1173\u001b[0m         values \u001b[39m=\u001b[39m obj\u001b[39m.\u001b[39mastype(\u001b[39mobject\u001b[39m)\u001b[39m.\u001b[39m_values\n\u001b[1;32m-> 1174\u001b[0m         mapped \u001b[39m=\u001b[39m lib\u001b[39m.\u001b[39mmap_infer(\n\u001b[0;32m   1175\u001b[0m             values,\n\u001b[0;32m   1176\u001b[0m             f,\n\u001b[0;32m   1177\u001b[0m             convert\u001b[39m=\u001b[39m\u001b[39mself\u001b[39m\u001b[39m.\u001b[39mconvert_dtype,\n\u001b[0;32m   1178\u001b[0m         )\n\u001b[0;32m   1180\u001b[0m \u001b[39mif\u001b[39;00m \u001b[39mlen\u001b[39m(mapped) \u001b[39mand\u001b[39;00m \u001b[39misinstance\u001b[39m(mapped[\u001b[39m0\u001b[39m], ABCSeries):\n\u001b[0;32m   1181\u001b[0m     \u001b[39m# GH#43986 Need to do list(mapped) in order to get treated as nested\u001b[39;00m\n\u001b[0;32m   1182\u001b[0m     \u001b[39m#  See also GH#25959 regarding EA support\u001b[39;00m\n\u001b[0;32m   1183\u001b[0m     \u001b[39mreturn\u001b[39;00m obj\u001b[39m.\u001b[39m_constructor_expanddim(\u001b[39mlist\u001b[39m(mapped), index\u001b[39m=\u001b[39mobj\u001b[39m.\u001b[39mindex)\n",
      "File \u001b[1;32md:\\ProgramFiles\\anaconda\\Lib\\site-packages\\pandas\\_libs\\lib.pyx:2924\u001b[0m, in \u001b[0;36mpandas._libs.lib.map_infer\u001b[1;34m()\u001b[0m\n",
      "\u001b[1;32md:\\Python Workspace\\src\\UTCourse\\NLP\\UT-NLP-Project\\src\\data exploration.ipynb Cell 6\u001b[0m line \u001b[0;36m6\n\u001b[0;32m      <a href='vscode-notebook-cell:/d%3A/Python%20Workspace/src/UTCourse/NLP/UT-NLP-Project/src/data%20exploration.ipynb#X25sZmlsZQ%3D%3D?line=2'>3</a>\u001b[0m \u001b[39m# Tokenize the text using BERT's tokenizer and ensure uniform sequence length\u001b[39;00m\n\u001b[0;32m      <a href='vscode-notebook-cell:/d%3A/Python%20Workspace/src/UTCourse/NLP/UT-NLP-Project/src/data%20exploration.ipynb#X25sZmlsZQ%3D%3D?line=3'>4</a>\u001b[0m max_sequence_length \u001b[39m=\u001b[39m \u001b[39m128\u001b[39m  \u001b[39m# Adjust to an appropriate sequence length\u001b[39;00m\n\u001b[1;32m----> <a href='vscode-notebook-cell:/d%3A/Python%20Workspace/src/UTCourse/NLP/UT-NLP-Project/src/data%20exploration.ipynb#X25sZmlsZQ%3D%3D?line=5'>6</a>\u001b[0m raw_train_data[\u001b[39m'\u001b[39m\u001b[39mtext\u001b[39m\u001b[39m'\u001b[39m] \u001b[39m=\u001b[39m raw_train_data[\u001b[39m'\u001b[39m\u001b[39mtext\u001b[39m\u001b[39m'\u001b[39m]\u001b[39m.\u001b[39mapply(\u001b[39mlambda\u001b[39;00m x: tokenizer\u001b[39m.\u001b[39mencode(x, add_special_tokens\u001b[39m=\u001b[39m\u001b[39mTrue\u001b[39;00m, max_length\u001b[39m=\u001b[39mmax_sequence_length, truncation\u001b[39m=\u001b[39m\u001b[39mTrue\u001b[39;00m, padding\u001b[39m=\u001b[39m\u001b[39m'\u001b[39m\u001b[39mmax_length\u001b[39m\u001b[39m'\u001b[39m))\n\u001b[0;32m      <a href='vscode-notebook-cell:/d%3A/Python%20Workspace/src/UTCourse/NLP/UT-NLP-Project/src/data%20exploration.ipynb#X25sZmlsZQ%3D%3D?line=6'>7</a>\u001b[0m raw_test_data[\u001b[39m'\u001b[39m\u001b[39mtext\u001b[39m\u001b[39m'\u001b[39m] \u001b[39m=\u001b[39m raw_test_data[\u001b[39m'\u001b[39m\u001b[39mtext\u001b[39m\u001b[39m'\u001b[39m]\u001b[39m.\u001b[39mapply(\u001b[39mlambda\u001b[39;00m x: tokenizer\u001b[39m.\u001b[39mencode(x, add_special_tokens\u001b[39m=\u001b[39m\u001b[39mTrue\u001b[39;00m, max_length\u001b[39m=\u001b[39mmax_sequence_length, truncation\u001b[39m=\u001b[39m\u001b[39mTrue\u001b[39;00m, padding\u001b[39m=\u001b[39m\u001b[39m'\u001b[39m\u001b[39mmax_length\u001b[39m\u001b[39m'\u001b[39m))\n\u001b[0;32m      <a href='vscode-notebook-cell:/d%3A/Python%20Workspace/src/UTCourse/NLP/UT-NLP-Project/src/data%20exploration.ipynb#X25sZmlsZQ%3D%3D?line=7'>8</a>\u001b[0m raw_train_data[\u001b[39m'\u001b[39m\u001b[39mtext\u001b[39m\u001b[39m'\u001b[39m]\u001b[39m.\u001b[39mhead()\n",
      "File \u001b[1;32md:\\ProgramFiles\\anaconda\\Lib\\site-packages\\transformers\\tokenization_utils.py:728\u001b[0m, in \u001b[0;36mPreTrainedTokenizer.encode\u001b[1;34m(self, text, text_pair, add_special_tokens, max_length, stride, truncation_strategy, return_tensors, **kwargs)\u001b[0m\n\u001b[0;32m    691\u001b[0m \u001b[39mdef\u001b[39;00m \u001b[39mencode\u001b[39m(\u001b[39mself\u001b[39m,\n\u001b[0;32m    692\u001b[0m             text,\n\u001b[0;32m    693\u001b[0m             text_pair\u001b[39m=\u001b[39m\u001b[39mNone\u001b[39;00m,\n\u001b[1;32m   (...)\u001b[0m\n\u001b[0;32m    698\u001b[0m             return_tensors\u001b[39m=\u001b[39m\u001b[39mNone\u001b[39;00m,\n\u001b[0;32m    699\u001b[0m             \u001b[39m*\u001b[39m\u001b[39m*\u001b[39mkwargs):\n\u001b[0;32m    700\u001b[0m \u001b[39m    \u001b[39m\u001b[39m\"\"\"\u001b[39;00m\n\u001b[0;32m    701\u001b[0m \u001b[39m    Converts a string in a sequence of ids (integer), using the tokenizer and vocabulary.\u001b[39;00m\n\u001b[0;32m    702\u001b[0m \n\u001b[1;32m   (...)\u001b[0m\n\u001b[0;32m    726\u001b[0m \u001b[39m        **kwargs: passed to the `self.tokenize()` method\u001b[39;00m\n\u001b[0;32m    727\u001b[0m \u001b[39m    \"\"\"\u001b[39;00m\n\u001b[1;32m--> 728\u001b[0m     encoded_inputs \u001b[39m=\u001b[39m \u001b[39mself\u001b[39m\u001b[39m.\u001b[39mencode_plus(text,\n\u001b[0;32m    729\u001b[0m                                       text_pair\u001b[39m=\u001b[39mtext_pair,\n\u001b[0;32m    730\u001b[0m                                       max_length\u001b[39m=\u001b[39mmax_length,\n\u001b[0;32m    731\u001b[0m                                       add_special_tokens\u001b[39m=\u001b[39madd_special_tokens,\n\u001b[0;32m    732\u001b[0m                                       stride\u001b[39m=\u001b[39mstride,\n\u001b[0;32m    733\u001b[0m                                       truncation_strategy\u001b[39m=\u001b[39mtruncation_strategy,\n\u001b[0;32m    734\u001b[0m                                       return_tensors\u001b[39m=\u001b[39mreturn_tensors,\n\u001b[0;32m    735\u001b[0m                                       \u001b[39m*\u001b[39m\u001b[39m*\u001b[39mkwargs)\n\u001b[0;32m    737\u001b[0m     \u001b[39mreturn\u001b[39;00m encoded_inputs[\u001b[39m\"\u001b[39m\u001b[39minput_ids\u001b[39m\u001b[39m\"\u001b[39m]\n",
      "File \u001b[1;32md:\\ProgramFiles\\anaconda\\Lib\\site-packages\\transformers\\tokenization_utils.py:786\u001b[0m, in \u001b[0;36mPreTrainedTokenizer.encode_plus\u001b[1;34m(self, text, text_pair, add_special_tokens, max_length, stride, truncation_strategy, return_tensors, **kwargs)\u001b[0m\n\u001b[0;32m    783\u001b[0m     \u001b[39melse\u001b[39;00m:\n\u001b[0;32m    784\u001b[0m         \u001b[39mraise\u001b[39;00m \u001b[39mValueError\u001b[39;00m(\u001b[39m\"\u001b[39m\u001b[39mInput is not valid. Should be a string, a list/tuple of strings or a list/tuple of integers.\u001b[39m\u001b[39m\"\u001b[39m)\n\u001b[1;32m--> 786\u001b[0m first_ids \u001b[39m=\u001b[39m get_input_ids(text)\n\u001b[0;32m    787\u001b[0m second_ids \u001b[39m=\u001b[39m get_input_ids(text_pair) \u001b[39mif\u001b[39;00m text_pair \u001b[39mis\u001b[39;00m \u001b[39mnot\u001b[39;00m \u001b[39mNone\u001b[39;00m \u001b[39melse\u001b[39;00m \u001b[39mNone\u001b[39;00m\n\u001b[0;32m    789\u001b[0m \u001b[39mreturn\u001b[39;00m \u001b[39mself\u001b[39m\u001b[39m.\u001b[39mprepare_for_model(first_ids,\n\u001b[0;32m    790\u001b[0m                               pair_ids\u001b[39m=\u001b[39msecond_ids,\n\u001b[0;32m    791\u001b[0m                               max_length\u001b[39m=\u001b[39mmax_length,\n\u001b[1;32m   (...)\u001b[0m\n\u001b[0;32m    794\u001b[0m                               truncation_strategy\u001b[39m=\u001b[39mtruncation_strategy,\n\u001b[0;32m    795\u001b[0m                               return_tensors\u001b[39m=\u001b[39mreturn_tensors)\n",
      "File \u001b[1;32md:\\ProgramFiles\\anaconda\\Lib\\site-packages\\transformers\\tokenization_utils.py:778\u001b[0m, in \u001b[0;36mPreTrainedTokenizer.encode_plus.<locals>.get_input_ids\u001b[1;34m(text)\u001b[0m\n\u001b[0;32m    776\u001b[0m \u001b[39mdef\u001b[39;00m \u001b[39mget_input_ids\u001b[39m(text):\n\u001b[0;32m    777\u001b[0m     \u001b[39mif\u001b[39;00m \u001b[39misinstance\u001b[39m(text, six\u001b[39m.\u001b[39mstring_types):\n\u001b[1;32m--> 778\u001b[0m         \u001b[39mreturn\u001b[39;00m \u001b[39mself\u001b[39m\u001b[39m.\u001b[39mconvert_tokens_to_ids(\u001b[39mself\u001b[39m\u001b[39m.\u001b[39mtokenize(text, \u001b[39m*\u001b[39m\u001b[39m*\u001b[39mkwargs))\n\u001b[0;32m    779\u001b[0m     \u001b[39melif\u001b[39;00m \u001b[39misinstance\u001b[39m(text, (\u001b[39mlist\u001b[39m, \u001b[39mtuple\u001b[39m)) \u001b[39mand\u001b[39;00m \u001b[39mlen\u001b[39m(text) \u001b[39m>\u001b[39m \u001b[39m0\u001b[39m \u001b[39mand\u001b[39;00m \u001b[39misinstance\u001b[39m(text[\u001b[39m0\u001b[39m], six\u001b[39m.\u001b[39mstring_types):\n\u001b[0;32m    780\u001b[0m         \u001b[39mreturn\u001b[39;00m \u001b[39mself\u001b[39m\u001b[39m.\u001b[39mconvert_tokens_to_ids(text)\n",
      "File \u001b[1;32md:\\ProgramFiles\\anaconda\\Lib\\site-packages\\transformers\\tokenization_utils.py:649\u001b[0m, in \u001b[0;36mPreTrainedTokenizer.tokenize\u001b[1;34m(self, text, **kwargs)\u001b[0m\n\u001b[0;32m    644\u001b[0m     \u001b[39mreturn\u001b[39;00m \u001b[39msum\u001b[39m((\u001b[39mself\u001b[39m\u001b[39m.\u001b[39m_tokenize(token, \u001b[39m*\u001b[39m\u001b[39m*\u001b[39mkwargs) \u001b[39mif\u001b[39;00m token \u001b[39mnot\u001b[39;00m \\\n\u001b[0;32m    645\u001b[0m             \u001b[39min\u001b[39;00m \u001b[39mself\u001b[39m\u001b[39m.\u001b[39madded_tokens_encoder \u001b[39mand\u001b[39;00m token \u001b[39mnot\u001b[39;00m \u001b[39min\u001b[39;00m \u001b[39mself\u001b[39m\u001b[39m.\u001b[39mall_special_tokens \\\n\u001b[0;32m    646\u001b[0m             \u001b[39melse\u001b[39;00m [token] \u001b[39mfor\u001b[39;00m token \u001b[39min\u001b[39;00m tokenized_text), [])\n\u001b[0;32m    648\u001b[0m added_tokens \u001b[39m=\u001b[39m \u001b[39mlist\u001b[39m(\u001b[39mself\u001b[39m\u001b[39m.\u001b[39madded_tokens_encoder\u001b[39m.\u001b[39mkeys()) \u001b[39m+\u001b[39m \u001b[39mself\u001b[39m\u001b[39m.\u001b[39mall_special_tokens\n\u001b[1;32m--> 649\u001b[0m tokenized_text \u001b[39m=\u001b[39m split_on_tokens(added_tokens, text)\n\u001b[0;32m    650\u001b[0m \u001b[39mreturn\u001b[39;00m tokenized_text\n",
      "File \u001b[1;32md:\\ProgramFiles\\anaconda\\Lib\\site-packages\\transformers\\tokenization_utils.py:644\u001b[0m, in \u001b[0;36mPreTrainedTokenizer.tokenize.<locals>.split_on_tokens\u001b[1;34m(tok_list, text)\u001b[0m\n\u001b[0;32m    641\u001b[0m             tokenized_text \u001b[39m+\u001b[39m\u001b[39m=\u001b[39m [sub_text]\n\u001b[0;32m    642\u001b[0m     text_list \u001b[39m=\u001b[39m tokenized_text\n\u001b[1;32m--> 644\u001b[0m \u001b[39mreturn\u001b[39;00m \u001b[39msum\u001b[39m((\u001b[39mself\u001b[39m\u001b[39m.\u001b[39m_tokenize(token, \u001b[39m*\u001b[39m\u001b[39m*\u001b[39mkwargs) \u001b[39mif\u001b[39;00m token \u001b[39mnot\u001b[39;00m \\\n\u001b[0;32m    645\u001b[0m         \u001b[39min\u001b[39;00m \u001b[39mself\u001b[39m\u001b[39m.\u001b[39madded_tokens_encoder \u001b[39mand\u001b[39;00m token \u001b[39mnot\u001b[39;00m \u001b[39min\u001b[39;00m \u001b[39mself\u001b[39m\u001b[39m.\u001b[39mall_special_tokens \\\n\u001b[0;32m    646\u001b[0m         \u001b[39melse\u001b[39;00m [token] \u001b[39mfor\u001b[39;00m token \u001b[39min\u001b[39;00m tokenized_text), [])\n",
      "File \u001b[1;32md:\\ProgramFiles\\anaconda\\Lib\\site-packages\\transformers\\tokenization_utils.py:644\u001b[0m, in \u001b[0;36m<genexpr>\u001b[1;34m(.0)\u001b[0m\n\u001b[0;32m    641\u001b[0m             tokenized_text \u001b[39m+\u001b[39m\u001b[39m=\u001b[39m [sub_text]\n\u001b[0;32m    642\u001b[0m     text_list \u001b[39m=\u001b[39m tokenized_text\n\u001b[1;32m--> 644\u001b[0m \u001b[39mreturn\u001b[39;00m \u001b[39msum\u001b[39m((\u001b[39mself\u001b[39m\u001b[39m.\u001b[39m_tokenize(token, \u001b[39m*\u001b[39m\u001b[39m*\u001b[39mkwargs) \u001b[39mif\u001b[39;00m token \u001b[39mnot\u001b[39;00m \\\n\u001b[0;32m    645\u001b[0m         \u001b[39min\u001b[39;00m \u001b[39mself\u001b[39m\u001b[39m.\u001b[39madded_tokens_encoder \u001b[39mand\u001b[39;00m token \u001b[39mnot\u001b[39;00m \u001b[39min\u001b[39;00m \u001b[39mself\u001b[39m\u001b[39m.\u001b[39mall_special_tokens \\\n\u001b[0;32m    646\u001b[0m         \u001b[39melse\u001b[39;00m [token] \u001b[39mfor\u001b[39;00m token \u001b[39min\u001b[39;00m tokenized_text), [])\n",
      "\u001b[1;31mTypeError\u001b[0m: BertTokenizer._tokenize() got an unexpected keyword argument 'truncation'"
     ]
    }
   ],
   "source": [
    "# Tokenize the text using BERT's tokenizer\n",
    "tokenizer = BertTokenizer.from_pretrained('bert-base-uncased')\n",
    "# Tokenize the text using BERT's tokenizer and ensure uniform sequence length\n",
    "max_sequence_length = 128  # Adjust to an appropriate sequence length\n",
    "\n",
    "raw_train_data['text'] = raw_train_data['text'].apply(lambda x: tokenizer.encode(x, add_special_tokens=True, max_length=max_sequence_length, truncation=True, padding='max_length'))\n",
    "raw_test_data['text'] = raw_test_data['text'].apply(lambda x: tokenizer.encode(x, add_special_tokens=True, max_length=max_sequence_length, truncation=True, padding='max_length'))\n",
    "raw_train_data['text'].head()"
   ]
  },
  {
   "cell_type": "code",
   "execution_count": 6,
   "metadata": {},
   "outputs": [
    {
     "data": {
      "text/plain": [
       "<Axes: >"
      ]
     },
     "execution_count": 6,
     "metadata": {},
     "output_type": "execute_result"
    },
    {
     "data": {
      "image/png": "[encoded data removed]",
      "text/plain": [
       "<Figure size 640x480 with 1 Axes>"
      ]
     },
     "metadata": {},
     "output_type": "display_data"
    }
   ],
   "source": [
    "train_data.apply(lambda x: len(x)).hist()"
   ]
  },
  {
   "cell_type": "code",
   "execution_count": 7,
   "metadata": {},
   "outputs": [
    {
     "ename": "ValueError",
     "evalue": "too many dimensions 'str'",
     "output_type": "error",
     "traceback": [
      "\u001b[1;31m---------------------------------------------------------------------------\u001b[0m",
      "\u001b[1;31mValueError\u001b[0m                                Traceback (most recent call last)",
      "\u001b[1;32md:\\Python Workspace\\src\\UTCourse\\NLP\\UT-NLP-Project\\src\\data exploration.ipynb Cell 5\u001b[0m line \u001b[0;36m5\n\u001b[0;32m      <a href='vscode-notebook-cell:/d%3A/Python%20Workspace/src/UTCourse/NLP/UT-NLP-Project/src/data%20exploration.ipynb#W5sZmlsZQ%3D%3D?line=1'>2</a>\u001b[0m train_data, val_data, train_labels, val_labels \u001b[39m=\u001b[39m train_test_split(raw_train_data[\u001b[39m'\u001b[39m\u001b[39mtext\u001b[39m\u001b[39m'\u001b[39m], raw_train_data[\u001b[39m'\u001b[39m\u001b[39mtarget\u001b[39m\u001b[39m'\u001b[39m], test_size\u001b[39m=\u001b[39m\u001b[39m0.2\u001b[39m, random_state\u001b[39m=\u001b[39m\u001b[39m42\u001b[39m)\n\u001b[0;32m      <a href='vscode-notebook-cell:/d%3A/Python%20Workspace/src/UTCourse/NLP/UT-NLP-Project/src/data%20exploration.ipynb#W5sZmlsZQ%3D%3D?line=2'>3</a>\u001b[0m test_data \u001b[39m=\u001b[39m raw_test_data[\u001b[39m'\u001b[39m\u001b[39mtext\u001b[39m\u001b[39m'\u001b[39m]\n\u001b[1;32m----> <a href='vscode-notebook-cell:/d%3A/Python%20Workspace/src/UTCourse/NLP/UT-NLP-Project/src/data%20exploration.ipynb#W5sZmlsZQ%3D%3D?line=4'>5</a>\u001b[0m train_data \u001b[39m=\u001b[39m torch\u001b[39m.\u001b[39mLongTensor(train_data\u001b[39m.\u001b[39mtolist())\n\u001b[0;32m      <a href='vscode-notebook-cell:/d%3A/Python%20Workspace/src/UTCourse/NLP/UT-NLP-Project/src/data%20exploration.ipynb#W5sZmlsZQ%3D%3D?line=5'>6</a>\u001b[0m train_labels \u001b[39m=\u001b[39m torch\u001b[39m.\u001b[39mLongTensor(train_labels\u001b[39m.\u001b[39mtolist())\n\u001b[0;32m      <a href='vscode-notebook-cell:/d%3A/Python%20Workspace/src/UTCourse/NLP/UT-NLP-Project/src/data%20exploration.ipynb#W5sZmlsZQ%3D%3D?line=6'>7</a>\u001b[0m val_data \u001b[39m=\u001b[39m torch\u001b[39m.\u001b[39mLongTensor(val_data\u001b[39m.\u001b[39mtolist())\n",
      "\u001b[1;31mValueError\u001b[0m: too many dimensions 'str'"
     ]
    }
   ],
   "source": [
    "# Split the data into train and train sets\n",
    "train_data, val_data, train_labels, val_labels = train_test_split(raw_train_data['text'], raw_train_data['target'], test_size=0.2, random_state=42)\n",
    "test_data = raw_test_data['text']\n",
    "\n",
    "train_data = torch.LongTensor(train_data.tolist())\n",
    "train_labels = torch.LongTensor(train_labels.tolist())\n",
    "val_data = torch.LongTensor(val_data.tolist())\n",
    "val_labels = torch.LongTensor(val_labels.tolist())"
   ]
  },
  {
   "cell_type": "code",
   "execution_count": 51,
   "metadata": {},
   "outputs": [
    {
     "data": {
      "text/plain": [
       "20"
      ]
     },
     "execution_count": 51,
     "metadata": {},
     "output_type": "execute_result"
    }
   ],
   "source": [
    "len(raw_train_data['text'].iloc[0])"
   ]
  },
  {
   "cell_type": "code",
   "execution_count": 48,
   "metadata": {},
   "outputs": [
    {
     "ename": "ValueError",
     "evalue": "expected sequence of length 41 at dim 1 (got 32)",
     "output_type": "error",
     "traceback": [
      "\u001b[1;31m---------------------------------------------------------------------------\u001b[0m",
      "\u001b[1;31mValueError\u001b[0m                                Traceback (most recent call last)",
      "\u001b[1;32md:\\Python Workspace\\src\\UTCourse\\NLP\\UT-NLP-Project\\src\\data exploration.ipynb Cell 5\u001b[0m line \u001b[0;36m1\n\u001b[0;32m      <a href='vscode-notebook-cell:/d%3A/Python%20Workspace/src/UTCourse/NLP/UT-NLP-Project/src/data%20exploration.ipynb#X16sZmlsZQ%3D%3D?line=2'>3</a>\u001b[0m test_data \u001b[39m=\u001b[39m raw_test_data[\u001b[39m'\u001b[39m\u001b[39mtext\u001b[39m\u001b[39m'\u001b[39m]\n\u001b[0;32m      <a href='vscode-notebook-cell:/d%3A/Python%20Workspace/src/UTCourse/NLP/UT-NLP-Project/src/data%20exploration.ipynb#X16sZmlsZQ%3D%3D?line=4'>5</a>\u001b[0m \u001b[39m# train_data = train_data.tolist()\u001b[39;00m\n\u001b[0;32m      <a href='vscode-notebook-cell:/d%3A/Python%20Workspace/src/UTCourse/NLP/UT-NLP-Project/src/data%20exploration.ipynb#X16sZmlsZQ%3D%3D?line=5'>6</a>\u001b[0m \u001b[39m# train_labels = train_labels.tolist()\u001b[39;00m\n\u001b[0;32m      <a href='vscode-notebook-cell:/d%3A/Python%20Workspace/src/UTCourse/NLP/UT-NLP-Project/src/data%20exploration.ipynb#X16sZmlsZQ%3D%3D?line=6'>7</a>\u001b[0m \u001b[39m# val_data = val_data.tolist()\u001b[39;00m\n\u001b[0;32m      <a href='vscode-notebook-cell:/d%3A/Python%20Workspace/src/UTCourse/NLP/UT-NLP-Project/src/data%20exploration.ipynb#X16sZmlsZQ%3D%3D?line=7'>8</a>\u001b[0m \u001b[39m# val_labels = val_labels.tolist()\u001b[39;00m\n\u001b[1;32m---> <a href='vscode-notebook-cell:/d%3A/Python%20Workspace/src/UTCourse/NLP/UT-NLP-Project/src/data%20exploration.ipynb#X16sZmlsZQ%3D%3D?line=9'>10</a>\u001b[0m train_data \u001b[39m=\u001b[39m torch\u001b[39m.\u001b[39mLongTensor(train_data\u001b[39m.\u001b[39mtolist())\n\u001b[0;32m     <a href='vscode-notebook-cell:/d%3A/Python%20Workspace/src/UTCourse/NLP/UT-NLP-Project/src/data%20exploration.ipynb#X16sZmlsZQ%3D%3D?line=10'>11</a>\u001b[0m train_labels \u001b[39m=\u001b[39m torch\u001b[39m.\u001b[39mLongTensor(train_labels\u001b[39m.\u001b[39mtolist())\n\u001b[0;32m     <a href='vscode-notebook-cell:/d%3A/Python%20Workspace/src/UTCourse/NLP/UT-NLP-Project/src/data%20exploration.ipynb#X16sZmlsZQ%3D%3D?line=11'>12</a>\u001b[0m val_data \u001b[39m=\u001b[39m torch\u001b[39m.\u001b[39mLongTensor(val_data\u001b[39m.\u001b[39mtolist())\n",
      "\u001b[1;31mValueError\u001b[0m: expected sequence of length 41 at dim 1 (got 32)"
     ]
    }
   ],
   "source": [
    "# Split the data into train and train sets\n",
    "train_data, val_data, train_labels, val_labels = train_test_split(raw_train_data['text'], raw_train_data['target'], test_size=0.2, random_state=42)\n",
    "test_data = raw_test_data['text']\n",
    "\n",
    "# train_data = train_data.tolist()\n",
    "# train_labels = train_labels.tolist()\n",
    "# val_data = val_data.tolist()\n",
    "# val_labels = val_labels.tolist()\n",
    "\n",
    "train_data = torch.LongTensor(train_data.tolist())\n",
    "train_labels = torch.LongTensor(train_labels.tolist())\n",
    "val_data = torch.LongTensor(val_data.tolist())\n",
    "val_labels = torch.LongTensor(val_labels.tolist())"
   ]
  },
  {
   "cell_type": "markdown",
   "metadata": {},
   "source": [
    "# Analyze"
   ]
  },
  {
   "cell_type": "code",
   "execution_count": 6,
   "metadata": {},
   "outputs": [
    {
     "data": {
      "text/plain": [
       "\"All residents asked to 'shelter in place' are being notified by officers. No other evacuation or shelter in place orders are expected\""
      ]
     },
     "execution_count": 6,
     "metadata": {},
     "output_type": "execute_result"
    }
   ],
   "source": [
    "raw_train_data['text'].iloc[2]"
   ]
  },
  {
   "cell_type": "code",
   "execution_count": 23,
   "metadata": {},
   "outputs": [
    {
     "data": {
      "text/plain": [
       "0.4296597924602653"
      ]
     },
     "execution_count": 23,
     "metadata": {},
     "output_type": "execute_result"
    }
   ],
   "source": [
    "# check if the sample is balanced\n",
    "n_p_sample = raw_train_data[raw_train_data['target'] == 1].shape[0]\n",
    "n_sample = raw_train_data.shape[0]\n",
    "perc_p_sample = n_p_sample/n_sample\n",
    "perc_p_sample"
   ]
  },
  {
   "cell_type": "markdown",
   "metadata": {},
   "source": [
    "The training sample is kind of balanced"
   ]
  },
  {
   "cell_type": "code",
   "execution_count": 29,
   "metadata": {},
   "outputs": [
    {
     "data": {
      "text/plain": [
       "3342"
      ]
     },
     "execution_count": 29,
     "metadata": {},
     "output_type": "execute_result"
    }
   ],
   "source": [
    "# number of different location\n",
    "raw_train_data['location'].unique()"
   ]
  },
  {
   "cell_type": "code",
   "execution_count": 35,
   "metadata": {},
   "outputs": [
    {
     "data": {
      "text/plain": [
       "array([[<Axes: title={'center': 'id'}>]], dtype=object)"
      ]
     },
     "execution_count": 35,
     "metadata": {},
     "output_type": "execute_result"
    },
    {
     "data": {
      "image/png": "[encoded data removed]",
      "text/plain": [
       "<Figure size 640x480 with 1 Axes>"
      ]
     },
     "metadata": {},
     "output_type": "display_data"
    }
   ],
   "source": [
    "# number of disaster tweets in each location\n",
    "raw_train_data[['location', 'id']].groupby('location').count().hist(bins=100)"
   ]
  },
  {
   "cell_type": "code",
   "execution_count": 36,
   "metadata": {},
   "outputs": [
    {
     "data": {
      "text/plain": [
       "0       Our Deeds are the Reason of this #earthquake M...\n",
       "1                  Forest fire near La Ronge Sask. Canada\n",
       "2       All residents asked to 'shelter in place' are ...\n",
       "3       13,000 people receive #wildfires evacuation or...\n",
       "4       Just got sent this photo from Ruby #Alaska as ...\n",
       "                              ...                        \n",
       "7608    Two giant cranes holding a bridge collapse int...\n",
       "7609    @aria_ahrary @TheTawniest The out of control w...\n",
       "7610    M1.94 [01:04 UTC]?5km S of Volcano Hawaii. htt...\n",
       "7611    Police investigating after an e-bike collided ...\n",
       "7612    The Latest: More Homes Razed by Northern Calif...\n",
       "Name: text, Length: 7613, dtype: object"
      ]
     },
     "execution_count": 36,
     "metadata": {},
     "output_type": "execute_result"
    }
   ],
   "source": [
    "# data cleaning \n",
    "raw_train_data[\"text\"]"
   ]
  },
  {
   "cell_type": "code",
   "execution_count": null,
   "metadata": {},
   "outputs": [],
   "source": [
    "X = raw_train_data[\"text\"]\n",
    "y = raw_train_data[\"target\"]\n",
    "# X represents your features, and y represents your labels\n",
    "X_train, X_test, y_train, y_test = train_test_split(X, y, test_size=0.3, random_state=42)"
   ]
  }
 ],
 "metadata": {
  "kernelspec": {
   "display_name": "base",
   "language": "python",
   "name": "python3"
  },
  "language_info": {
   "codemirror_mode": {
    "name": "ipython",
    "version": 3
   },
   "file_extension": ".py",
   "mimetype": "text/x-python",
   "name": "python",
   "nbconvert_exporter": "python",
   "pygments_lexer": "ipython3",
   "version": "3.11.4"
  },
  "orig_nbformat": 4
 },
 "nbformat": 4,
 "nbformat_minor": 2
}
